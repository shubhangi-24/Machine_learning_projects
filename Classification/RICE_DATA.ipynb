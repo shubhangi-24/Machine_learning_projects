{
 "cells": [
  {
   "cell_type": "code",
   "execution_count": 88,
   "id": "b01810b1",
   "metadata": {},
   "outputs": [],
   "source": [
    "import pandas as pd\n",
    "df=pd.read_csv(\"Rice_data.csv\")"
   ]
  },
  {
   "cell_type": "code",
   "execution_count": 89,
   "id": "0114d53b",
   "metadata": {},
   "outputs": [
    {
     "data": {
      "text/html": [
       "<div>\n",
       "<style scoped>\n",
       "    .dataframe tbody tr th:only-of-type {\n",
       "        vertical-align: middle;\n",
       "    }\n",
       "\n",
       "    .dataframe tbody tr th {\n",
       "        vertical-align: top;\n",
       "    }\n",
       "\n",
       "    .dataframe thead th {\n",
       "        text-align: right;\n",
       "    }\n",
       "</style>\n",
       "<table border=\"1\" class=\"dataframe\">\n",
       "  <thead>\n",
       "    <tr style=\"text-align: right;\">\n",
       "      <th></th>\n",
       "      <th>AREA</th>\n",
       "      <th>PERIMETER</th>\n",
       "      <th>MAJOR_AXIS</th>\n",
       "      <th>MINOR_AXIS</th>\n",
       "      <th>ECCENTRICITY</th>\n",
       "      <th>EQDIASQ</th>\n",
       "      <th>SOLIDITY</th>\n",
       "      <th>CONVEX_AREA</th>\n",
       "      <th>EXTENT</th>\n",
       "      <th>ASPECT_RATIO</th>\n",
       "      <th>...</th>\n",
       "      <th>ALLdaub4L</th>\n",
       "      <th>ALLdaub4a</th>\n",
       "      <th>ALLdaub4b</th>\n",
       "      <th>ALLdaub4Y</th>\n",
       "      <th>ALLdaub4Cb</th>\n",
       "      <th>ALLdaub4Cr</th>\n",
       "      <th>ALLdaub4XX</th>\n",
       "      <th>ALLdaub4YY</th>\n",
       "      <th>ALLdaub4ZZ</th>\n",
       "      <th>CLASS</th>\n",
       "    </tr>\n",
       "  </thead>\n",
       "  <tbody>\n",
       "    <tr>\n",
       "      <th>0</th>\n",
       "      <td>7805</td>\n",
       "      <td>437.915</td>\n",
       "      <td>209.8215</td>\n",
       "      <td>48.0221</td>\n",
       "      <td>0.9735</td>\n",
       "      <td>99.6877</td>\n",
       "      <td>0.9775</td>\n",
       "      <td>7985</td>\n",
       "      <td>0.3547</td>\n",
       "      <td>4.3693</td>\n",
       "      <td>...</td>\n",
       "      <td>113.9924</td>\n",
       "      <td>65.0610</td>\n",
       "      <td>59.5989</td>\n",
       "      <td>104.8552</td>\n",
       "      <td>67.8779</td>\n",
       "      <td>63.0828</td>\n",
       "      <td>0.3673</td>\n",
       "      <td>0.3793</td>\n",
       "      <td>0.4733</td>\n",
       "      <td>Basmati</td>\n",
       "    </tr>\n",
       "    <tr>\n",
       "      <th>1</th>\n",
       "      <td>7503</td>\n",
       "      <td>340.757</td>\n",
       "      <td>138.3361</td>\n",
       "      <td>69.8417</td>\n",
       "      <td>0.8632</td>\n",
       "      <td>97.7400</td>\n",
       "      <td>0.9660</td>\n",
       "      <td>7767</td>\n",
       "      <td>0.6637</td>\n",
       "      <td>1.9807</td>\n",
       "      <td>...</td>\n",
       "      <td>105.7055</td>\n",
       "      <td>64.3685</td>\n",
       "      <td>62.2084</td>\n",
       "      <td>96.8375</td>\n",
       "      <td>65.5371</td>\n",
       "      <td>63.5832</td>\n",
       "      <td>0.3014</td>\n",
       "      <td>0.3144</td>\n",
       "      <td>0.3641</td>\n",
       "      <td>Arborio</td>\n",
       "    </tr>\n",
       "    <tr>\n",
       "      <th>2</th>\n",
       "      <td>5124</td>\n",
       "      <td>314.617</td>\n",
       "      <td>141.9803</td>\n",
       "      <td>46.5784</td>\n",
       "      <td>0.9447</td>\n",
       "      <td>80.7718</td>\n",
       "      <td>0.9721</td>\n",
       "      <td>5271</td>\n",
       "      <td>0.4760</td>\n",
       "      <td>3.0482</td>\n",
       "      <td>...</td>\n",
       "      <td>109.7155</td>\n",
       "      <td>62.6423</td>\n",
       "      <td>58.7439</td>\n",
       "      <td>100.2352</td>\n",
       "      <td>68.9753</td>\n",
       "      <td>59.8342</td>\n",
       "      <td>0.3233</td>\n",
       "      <td>0.3445</td>\n",
       "      <td>0.4448</td>\n",
       "      <td>Jasmine</td>\n",
       "    </tr>\n",
       "    <tr>\n",
       "      <th>3</th>\n",
       "      <td>7990</td>\n",
       "      <td>437.085</td>\n",
       "      <td>201.4386</td>\n",
       "      <td>51.2245</td>\n",
       "      <td>0.9671</td>\n",
       "      <td>100.8622</td>\n",
       "      <td>0.9659</td>\n",
       "      <td>8272</td>\n",
       "      <td>0.6274</td>\n",
       "      <td>3.9325</td>\n",
       "      <td>...</td>\n",
       "      <td>116.5405</td>\n",
       "      <td>64.9069</td>\n",
       "      <td>60.2562</td>\n",
       "      <td>107.2560</td>\n",
       "      <td>67.3298</td>\n",
       "      <td>63.2237</td>\n",
       "      <td>0.3880</td>\n",
       "      <td>0.4020</td>\n",
       "      <td>0.4904</td>\n",
       "      <td>Basmati</td>\n",
       "    </tr>\n",
       "    <tr>\n",
       "      <th>4</th>\n",
       "      <td>7433</td>\n",
       "      <td>342.893</td>\n",
       "      <td>140.3350</td>\n",
       "      <td>68.3927</td>\n",
       "      <td>0.8732</td>\n",
       "      <td>97.2830</td>\n",
       "      <td>0.9831</td>\n",
       "      <td>7561</td>\n",
       "      <td>0.6006</td>\n",
       "      <td>2.0519</td>\n",
       "      <td>...</td>\n",
       "      <td>107.7502</td>\n",
       "      <td>64.7071</td>\n",
       "      <td>61.3549</td>\n",
       "      <td>98.8704</td>\n",
       "      <td>66.2048</td>\n",
       "      <td>63.5378</td>\n",
       "      <td>0.3184</td>\n",
       "      <td>0.3303</td>\n",
       "      <td>0.3928</td>\n",
       "      <td>Arborio</td>\n",
       "    </tr>\n",
       "    <tr>\n",
       "      <th>...</th>\n",
       "      <td>...</td>\n",
       "      <td>...</td>\n",
       "      <td>...</td>\n",
       "      <td>...</td>\n",
       "      <td>...</td>\n",
       "      <td>...</td>\n",
       "      <td>...</td>\n",
       "      <td>...</td>\n",
       "      <td>...</td>\n",
       "      <td>...</td>\n",
       "      <td>...</td>\n",
       "      <td>...</td>\n",
       "      <td>...</td>\n",
       "      <td>...</td>\n",
       "      <td>...</td>\n",
       "      <td>...</td>\n",
       "      <td>...</td>\n",
       "      <td>...</td>\n",
       "      <td>...</td>\n",
       "      <td>...</td>\n",
       "      <td>...</td>\n",
       "    </tr>\n",
       "    <tr>\n",
       "      <th>74995</th>\n",
       "      <td>5551</td>\n",
       "      <td>285.911</td>\n",
       "      <td>114.1695</td>\n",
       "      <td>62.9079</td>\n",
       "      <td>0.8345</td>\n",
       "      <td>84.0699</td>\n",
       "      <td>0.9846</td>\n",
       "      <td>5638</td>\n",
       "      <td>0.6418</td>\n",
       "      <td>1.8149</td>\n",
       "      <td>...</td>\n",
       "      <td>103.9529</td>\n",
       "      <td>64.9225</td>\n",
       "      <td>62.4355</td>\n",
       "      <td>95.2780</td>\n",
       "      <td>65.5114</td>\n",
       "      <td>64.4457</td>\n",
       "      <td>0.2895</td>\n",
       "      <td>0.2997</td>\n",
       "      <td>0.3455</td>\n",
       "      <td>Arborio</td>\n",
       "    </tr>\n",
       "    <tr>\n",
       "      <th>74996</th>\n",
       "      <td>7696</td>\n",
       "      <td>322.703</td>\n",
       "      <td>121.3900</td>\n",
       "      <td>81.1375</td>\n",
       "      <td>0.7438</td>\n",
       "      <td>98.9892</td>\n",
       "      <td>0.9868</td>\n",
       "      <td>7799</td>\n",
       "      <td>0.7309</td>\n",
       "      <td>1.4961</td>\n",
       "      <td>...</td>\n",
       "      <td>108.9778</td>\n",
       "      <td>65.4571</td>\n",
       "      <td>59.9502</td>\n",
       "      <td>100.2301</td>\n",
       "      <td>67.5089</td>\n",
       "      <td>63.6028</td>\n",
       "      <td>0.3335</td>\n",
       "      <td>0.3426</td>\n",
       "      <td>0.4257</td>\n",
       "      <td>Karacadag</td>\n",
       "    </tr>\n",
       "    <tr>\n",
       "      <th>74997</th>\n",
       "      <td>7579</td>\n",
       "      <td>339.295</td>\n",
       "      <td>136.3125</td>\n",
       "      <td>71.2866</td>\n",
       "      <td>0.8524</td>\n",
       "      <td>98.2338</td>\n",
       "      <td>0.9805</td>\n",
       "      <td>7730</td>\n",
       "      <td>0.6399</td>\n",
       "      <td>1.9122</td>\n",
       "      <td>...</td>\n",
       "      <td>106.0881</td>\n",
       "      <td>64.1869</td>\n",
       "      <td>61.3876</td>\n",
       "      <td>97.1585</td>\n",
       "      <td>66.2445</td>\n",
       "      <td>63.0596</td>\n",
       "      <td>0.3028</td>\n",
       "      <td>0.3164</td>\n",
       "      <td>0.3761</td>\n",
       "      <td>Arborio</td>\n",
       "    </tr>\n",
       "    <tr>\n",
       "      <th>74998</th>\n",
       "      <td>15174</td>\n",
       "      <td>489.502</td>\n",
       "      <td>200.9486</td>\n",
       "      <td>97.6282</td>\n",
       "      <td>0.8740</td>\n",
       "      <td>138.9969</td>\n",
       "      <td>0.9766</td>\n",
       "      <td>15537</td>\n",
       "      <td>0.7903</td>\n",
       "      <td>2.0583</td>\n",
       "      <td>...</td>\n",
       "      <td>119.2037</td>\n",
       "      <td>63.3545</td>\n",
       "      <td>64.8200</td>\n",
       "      <td>109.3027</td>\n",
       "      <td>63.3122</td>\n",
       "      <td>63.5967</td>\n",
       "      <td>0.3970</td>\n",
       "      <td>0.4215</td>\n",
       "      <td>0.4469</td>\n",
       "      <td>Ipsala</td>\n",
       "    </tr>\n",
       "    <tr>\n",
       "      <th>74999</th>\n",
       "      <td>12931</td>\n",
       "      <td>452.635</td>\n",
       "      <td>185.5138</td>\n",
       "      <td>90.2651</td>\n",
       "      <td>0.8736</td>\n",
       "      <td>128.3131</td>\n",
       "      <td>0.9760</td>\n",
       "      <td>13249</td>\n",
       "      <td>0.7640</td>\n",
       "      <td>2.0552</td>\n",
       "      <td>...</td>\n",
       "      <td>121.4198</td>\n",
       "      <td>63.5424</td>\n",
       "      <td>65.2355</td>\n",
       "      <td>111.4580</td>\n",
       "      <td>63.0129</td>\n",
       "      <td>63.9117</td>\n",
       "      <td>0.4162</td>\n",
       "      <td>0.4414</td>\n",
       "      <td>0.4626</td>\n",
       "      <td>Ipsala</td>\n",
       "    </tr>\n",
       "  </tbody>\n",
       "</table>\n",
       "<p>75000 rows × 107 columns</p>\n",
       "</div>"
      ],
      "text/plain": [
       "        AREA  PERIMETER  MAJOR_AXIS  MINOR_AXIS  ECCENTRICITY   EQDIASQ  \\\n",
       "0       7805    437.915    209.8215     48.0221        0.9735   99.6877   \n",
       "1       7503    340.757    138.3361     69.8417        0.8632   97.7400   \n",
       "2       5124    314.617    141.9803     46.5784        0.9447   80.7718   \n",
       "3       7990    437.085    201.4386     51.2245        0.9671  100.8622   \n",
       "4       7433    342.893    140.3350     68.3927        0.8732   97.2830   \n",
       "...      ...        ...         ...         ...           ...       ...   \n",
       "74995   5551    285.911    114.1695     62.9079        0.8345   84.0699   \n",
       "74996   7696    322.703    121.3900     81.1375        0.7438   98.9892   \n",
       "74997   7579    339.295    136.3125     71.2866        0.8524   98.2338   \n",
       "74998  15174    489.502    200.9486     97.6282        0.8740  138.9969   \n",
       "74999  12931    452.635    185.5138     90.2651        0.8736  128.3131   \n",
       "\n",
       "       SOLIDITY  CONVEX_AREA  EXTENT  ASPECT_RATIO  ...  ALLdaub4L  ALLdaub4a  \\\n",
       "0        0.9775         7985  0.3547        4.3693  ...   113.9924    65.0610   \n",
       "1        0.9660         7767  0.6637        1.9807  ...   105.7055    64.3685   \n",
       "2        0.9721         5271  0.4760        3.0482  ...   109.7155    62.6423   \n",
       "3        0.9659         8272  0.6274        3.9325  ...   116.5405    64.9069   \n",
       "4        0.9831         7561  0.6006        2.0519  ...   107.7502    64.7071   \n",
       "...         ...          ...     ...           ...  ...        ...        ...   \n",
       "74995    0.9846         5638  0.6418        1.8149  ...   103.9529    64.9225   \n",
       "74996    0.9868         7799  0.7309        1.4961  ...   108.9778    65.4571   \n",
       "74997    0.9805         7730  0.6399        1.9122  ...   106.0881    64.1869   \n",
       "74998    0.9766        15537  0.7903        2.0583  ...   119.2037    63.3545   \n",
       "74999    0.9760        13249  0.7640        2.0552  ...   121.4198    63.5424   \n",
       "\n",
       "       ALLdaub4b  ALLdaub4Y  ALLdaub4Cb  ALLdaub4Cr  ALLdaub4XX  ALLdaub4YY  \\\n",
       "0        59.5989   104.8552     67.8779     63.0828      0.3673      0.3793   \n",
       "1        62.2084    96.8375     65.5371     63.5832      0.3014      0.3144   \n",
       "2        58.7439   100.2352     68.9753     59.8342      0.3233      0.3445   \n",
       "3        60.2562   107.2560     67.3298     63.2237      0.3880      0.4020   \n",
       "4        61.3549    98.8704     66.2048     63.5378      0.3184      0.3303   \n",
       "...          ...        ...         ...         ...         ...         ...   \n",
       "74995    62.4355    95.2780     65.5114     64.4457      0.2895      0.2997   \n",
       "74996    59.9502   100.2301     67.5089     63.6028      0.3335      0.3426   \n",
       "74997    61.3876    97.1585     66.2445     63.0596      0.3028      0.3164   \n",
       "74998    64.8200   109.3027     63.3122     63.5967      0.3970      0.4215   \n",
       "74999    65.2355   111.4580     63.0129     63.9117      0.4162      0.4414   \n",
       "\n",
       "       ALLdaub4ZZ      CLASS  \n",
       "0          0.4733    Basmati  \n",
       "1          0.3641    Arborio  \n",
       "2          0.4448    Jasmine  \n",
       "3          0.4904    Basmati  \n",
       "4          0.3928    Arborio  \n",
       "...           ...        ...  \n",
       "74995      0.3455    Arborio  \n",
       "74996      0.4257  Karacadag  \n",
       "74997      0.3761    Arborio  \n",
       "74998      0.4469     Ipsala  \n",
       "74999      0.4626     Ipsala  \n",
       "\n",
       "[75000 rows x 107 columns]"
      ]
     },
     "execution_count": 89,
     "metadata": {},
     "output_type": "execute_result"
    }
   ],
   "source": [
    "df"
   ]
  },
  {
   "cell_type": "code",
   "execution_count": 90,
   "id": "69c147e1",
   "metadata": {},
   "outputs": [
    {
     "name": "stdout",
     "output_type": "stream",
     "text": [
      "<class 'pandas.core.frame.DataFrame'>\n",
      "RangeIndex: 75000 entries, 0 to 74999\n",
      "Columns: 107 entries, AREA to CLASS\n",
      "dtypes: float64(95), int64(11), object(1)\n",
      "memory usage: 61.2+ MB\n"
     ]
    }
   ],
   "source": [
    "df.info()"
   ]
  },
  {
   "cell_type": "code",
   "execution_count": 91,
   "id": "3c45ea61",
   "metadata": {},
   "outputs": [
    {
     "data": {
      "text/plain": [
       "(75000, 107)"
      ]
     },
     "execution_count": 91,
     "metadata": {},
     "output_type": "execute_result"
    }
   ],
   "source": [
    "df.shape"
   ]
  },
  {
   "cell_type": "code",
   "execution_count": 92,
   "id": "739f12f2",
   "metadata": {},
   "outputs": [
    {
     "name": "stdout",
     "output_type": "stream",
     "text": [
      "AREA              int64\n",
      "PERIMETER       float64\n",
      "MAJOR_AXIS      float64\n",
      "MINOR_AXIS      float64\n",
      "ECCENTRICITY    float64\n",
      "                 ...   \n",
      "ALLdaub4Cr      float64\n",
      "ALLdaub4XX      float64\n",
      "ALLdaub4YY      float64\n",
      "ALLdaub4ZZ      float64\n",
      "CLASS            object\n",
      "Length: 107, dtype: object\n"
     ]
    }
   ],
   "source": [
    "print(df.dtypes)"
   ]
  },
  {
   "cell_type": "code",
   "execution_count": 95,
   "id": "9424b8c9",
   "metadata": {},
   "outputs": [],
   "source": [
    "import sys\n",
    "import numpy as np\n",
    "np.set_printoptions(threshold=np.inf)"
   ]
  },
  {
   "cell_type": "code",
   "execution_count": 108,
   "id": "2016c79b",
   "metadata": {},
   "outputs": [],
   "source": [
    "pd.set_option('display.max_rows',None)  ## to show all the dataframe"
   ]
  },
  {
   "cell_type": "code",
   "execution_count": 109,
   "id": "fb846978",
   "metadata": {},
   "outputs": [
    {
     "name": "stdout",
     "output_type": "stream",
     "text": [
      "AREA             0\n",
      "PERIMETER        0\n",
      "MAJOR_AXIS       0\n",
      "MINOR_AXIS       0\n",
      "ECCENTRICITY     0\n",
      "EQDIASQ          0\n",
      "SOLIDITY         0\n",
      "CONVEX_AREA      0\n",
      "EXTENT           0\n",
      "ASPECT_RATIO     0\n",
      "ROUNDNESS        0\n",
      "COMPACTNESS      0\n",
      "SHAPEFACTOR_1    0\n",
      "SHAPEFACTOR_2    0\n",
      "SHAPEFACTOR_3    0\n",
      "SHAPEFACTOR_4    0\n",
      "meanRR           0\n",
      "meanRG           0\n",
      "meanRB           0\n",
      "StdDevRR         0\n",
      "StdDevRG         0\n",
      "StdDevRB         0\n",
      "skewRR           0\n",
      "skewRG           0\n",
      "skewRB           0\n",
      "kurtosisRR       0\n",
      "kurtosisRG       0\n",
      "kurtosisRB       0\n",
      "entropyRR        0\n",
      "entropyRG        0\n",
      "entropyRB        0\n",
      "meanH            0\n",
      "meanS            0\n",
      "meanV            0\n",
      "StdDevH          0\n",
      "StdDevS          0\n",
      "StdDevV          0\n",
      "skewH            0\n",
      "skewS            0\n",
      "skewV            0\n",
      "kurtosisH        0\n",
      "kurtosisS        0\n",
      "kurtosisV        0\n",
      "entropyH         0\n",
      "entropyS         0\n",
      "entropyV         0\n",
      "meanL            0\n",
      "meanA            0\n",
      "meanB            0\n",
      "StdDevL          0\n",
      "StdDevA          0\n",
      "StdDevB          0\n",
      "skewL            0\n",
      "skewA            0\n",
      "skewB            6\n",
      "kurtosisL        0\n",
      "kurtosisA        0\n",
      "kurtosisB        6\n",
      "entropyL         0\n",
      "entropyA         0\n",
      "entropyB         0\n",
      "meanY            0\n",
      "meanCb           0\n",
      "meanCr           0\n",
      "StdDevY          0\n",
      "StdDevCb         0\n",
      "StdDevCr         0\n",
      "skewY            0\n",
      "skewCb           3\n",
      "skewCr           2\n",
      "kurtosisY        0\n",
      "kurtosisCb       3\n",
      "kurtosisCr       2\n",
      "entropyY         0\n",
      "entropyCb        0\n",
      "entropyCr        0\n",
      "meanXX           0\n",
      "meanYY           0\n",
      "meanZZ           0\n",
      "StdDevXX         0\n",
      "StdDevYY         0\n",
      "StdDevZZ         0\n",
      "skewXX           0\n",
      "skewYY           0\n",
      "skewZZ           0\n",
      "kurtosisXX       0\n",
      "kurtosisYY       0\n",
      "kurtosisZZ       0\n",
      "entropyXX        0\n",
      "entropyYY        0\n",
      "entropyZZ        0\n",
      "ALLdaub4RR       0\n",
      "ALLdaub4RG       0\n",
      "ALLdaub4RB       0\n",
      "ALLdaub4H        0\n",
      "ALLdaub4S        0\n",
      "ALLdaub4V        0\n",
      "ALLdaub4L        0\n",
      "ALLdaub4a        0\n",
      "ALLdaub4b        0\n",
      "ALLdaub4Y        0\n",
      "ALLdaub4Cb       0\n",
      "ALLdaub4Cr       0\n",
      "ALLdaub4XX       0\n",
      "ALLdaub4YY       0\n",
      "ALLdaub4ZZ       0\n",
      "CLASS            0\n",
      "dtype: int64\n"
     ]
    }
   ],
   "source": [
    "print(df.isnull().sum())"
   ]
  },
  {
   "cell_type": "code",
   "execution_count": 66,
   "id": "9c8a9e9f",
   "metadata": {},
   "outputs": [],
   "source": [
    "df=df.dropna()"
   ]
  },
  {
   "cell_type": "code",
   "execution_count": 67,
   "id": "dd75274a",
   "metadata": {},
   "outputs": [
    {
     "data": {
      "text/plain": [
       "Arborio      15000\n",
       "Karacadag    15000\n",
       "Basmati      15000\n",
       "Jasmine      14998\n",
       "Ipsala       14994\n",
       "Name: CLASS, dtype: int64"
      ]
     },
     "execution_count": 67,
     "metadata": {},
     "output_type": "execute_result"
    }
   ],
   "source": [
    "df['CLASS'].value_counts()"
   ]
  },
  {
   "cell_type": "code",
   "execution_count": 68,
   "id": "24060b04",
   "metadata": {},
   "outputs": [
    {
     "name": "stderr",
     "output_type": "stream",
     "text": [
      "<ipython-input-68-4d605fe75ab7>:2: SettingWithCopyWarning: \n",
      "A value is trying to be set on a copy of a slice from a DataFrame.\n",
      "Try using .loc[row_indexer,col_indexer] = value instead\n",
      "\n",
      "See the caveats in the documentation: https://pandas.pydata.org/pandas-docs/stable/user_guide/indexing.html#returning-a-view-versus-a-copy\n",
      "  df['CLASS']=df['CLASS'].map(dict)\n"
     ]
    }
   ],
   "source": [
    "dict={'Basmati':1,'Arborio':2,'Jasmine':3,'Karacadag':4,'Ipsala':5}\n",
    "df['CLASS']=df['CLASS'].map(dict)"
   ]
  },
  {
   "cell_type": "code",
   "execution_count": 69,
   "id": "ed8f2367",
   "metadata": {},
   "outputs": [],
   "source": [
    "x=df.iloc[:,:106]\n",
    "y=df.iloc[:,106::]"
   ]
  },
  {
   "cell_type": "code",
   "execution_count": 70,
   "id": "119afe3a",
   "metadata": {},
   "outputs": [
    {
     "name": "stdout",
     "output_type": "stream",
     "text": [
      "       CLASS\n",
      "0          1\n",
      "1          2\n",
      "2          3\n",
      "3          1\n",
      "4          2\n",
      "...      ...\n",
      "74995      2\n",
      "74996      4\n",
      "74997      2\n",
      "74998      5\n",
      "74999      5\n",
      "\n",
      "[74992 rows x 1 columns]\n"
     ]
    }
   ],
   "source": [
    "print(y)"
   ]
  },
  {
   "cell_type": "code",
   "execution_count": 71,
   "id": "9162fd8f",
   "metadata": {},
   "outputs": [
    {
     "name": "stdout",
     "output_type": "stream",
     "text": [
      "(52494, 106)\n",
      "(22498, 106)\n",
      "(52494, 1)\n",
      "(22498, 1)\n"
     ]
    }
   ],
   "source": [
    "from sklearn.model_selection import train_test_split\n",
    "x_train,x_test,y_train,y_test=train_test_split(x,y,test_size=0.3,random_state=0)\n",
    "print(x_train.shape)\n",
    "print(x_test.shape)\n",
    "print(y_train.shape)\n",
    "print(y_test.shape)"
   ]
  },
  {
   "cell_type": "code",
   "execution_count": 74,
   "id": "f1fa01f6",
   "metadata": {},
   "outputs": [],
   "source": [
    "from sklearn.preprocessing import StandardScaler\n",
    "sc=StandardScaler()\n",
    "sc.fit(x_train)\n",
    "x_train_std=sc.transform(x_train)\n",
    "x_test_std=sc.transform(x_test)"
   ]
  },
  {
   "cell_type": "code",
   "execution_count": 76,
   "id": "6e7b3701",
   "metadata": {},
   "outputs": [
    {
     "name": "stderr",
     "output_type": "stream",
     "text": [
      "C:\\Users\\shubhangi\\anaconda3\\lib\\site-packages\\sklearn\\utils\\validation.py:63: DataConversionWarning: A column-vector y was passed when a 1d array was expected. Please change the shape of y to (n_samples, ), for example using ravel().\n",
      "  return f(*args, **kwargs)\n",
      "C:\\Users\\shubhangi\\anaconda3\\lib\\site-packages\\sklearn\\linear_model\\_logistic.py:763: ConvergenceWarning: lbfgs failed to converge (status=1):\n",
      "STOP: TOTAL NO. of ITERATIONS REACHED LIMIT.\n",
      "\n",
      "Increase the number of iterations (max_iter) or scale the data as shown in:\n",
      "    https://scikit-learn.org/stable/modules/preprocessing.html\n",
      "Please also refer to the documentation for alternative solver options:\n",
      "    https://scikit-learn.org/stable/modules/linear_model.html#logistic-regression\n",
      "  n_iter_i = _check_optimize_result(\n"
     ]
    }
   ],
   "source": [
    "from sklearn.linear_model import LogisticRegression\n",
    "clf=LogisticRegression()\n",
    "clf.fit(x_train,y_train)\n",
    "y_train_pred=clf.predict(x_train)\n",
    "y_test_pred=clf.predict(x_test)"
   ]
  },
  {
   "cell_type": "code",
   "execution_count": 77,
   "id": "0810d0ec",
   "metadata": {},
   "outputs": [
    {
     "name": "stdout",
     "output_type": "stream",
     "text": [
      "Training Acc= 0.77888901588753\n",
      "Testing Acc= 0.7792692683794115\n"
     ]
    }
   ],
   "source": [
    "from sklearn.metrics import accuracy_score\n",
    "train_acc=accuracy_score(y_train,y_train_pred)\n",
    "test_acc=accuracy_score(y_test,y_test_pred)\n",
    "print('Training Acc=',train_acc)\n",
    "print('Testing Acc=',test_acc)"
   ]
  },
  {
   "cell_type": "code",
   "execution_count": 78,
   "id": "cc358c86",
   "metadata": {},
   "outputs": [
    {
     "name": "stdout",
     "output_type": "stream",
     "text": [
      "              precision    recall  f1-score   support\n",
      "\n",
      "           1       0.73      0.78      0.76      4532\n",
      "           2       0.66      0.87      0.75      4436\n",
      "           3       0.67      0.45      0.54      4476\n",
      "           4       0.85      0.81      0.83      4570\n",
      "           5       0.98      0.99      0.99      4484\n",
      "\n",
      "    accuracy                           0.78     22498\n",
      "   macro avg       0.78      0.78      0.77     22498\n",
      "weighted avg       0.78      0.78      0.77     22498\n",
      "\n"
     ]
    }
   ],
   "source": [
    "from sklearn.metrics import classification_report\n",
    "cr=classification_report(y_test,y_test_pred)\n",
    "print(cr)"
   ]
  },
  {
   "cell_type": "code",
   "execution_count": 79,
   "id": "6e65d07c",
   "metadata": {},
   "outputs": [
    {
     "name": "stdout",
     "output_type": "stream",
     "text": [
      "[[3529  168  438  386   11]\n",
      " [  80 3840  413   31   72]\n",
      " [ 568 1672 2022  210    4]\n",
      " [ 634   99  145 3691    1]\n",
      " [   0   34    0    0 4450]]\n"
     ]
    }
   ],
   "source": [
    "from sklearn.metrics import confusion_matrix\n",
    "cm=confusion_matrix(y_test,y_test_pred)\n",
    "print(cm)"
   ]
  },
  {
   "cell_type": "code",
   "execution_count": 80,
   "id": "17ee0141",
   "metadata": {},
   "outputs": [
    {
     "data": {
      "text/plain": [
       "<AxesSubplot:>"
      ]
     },
     "execution_count": 80,
     "metadata": {},
     "output_type": "execute_result"
    },
    {
     "data": {
      "image/png": "[encoded data removed]",
      "text/plain": [
       "<Figure size 432x288 with 1 Axes>"
      ]
     },
     "metadata": {
      "needs_background": "light"
     },
     "output_type": "display_data"
    }
   ],
   "source": [
    "import seaborn as sns\n",
    "sns.heatmap(cm,annot=True,cbar=False,fmt='.2f')"
   ]
  },
  {
   "cell_type": "code",
   "execution_count": 82,
   "id": "08d1d49c",
   "metadata": {},
   "outputs": [
    {
     "name": "stderr",
     "output_type": "stream",
     "text": [
      "C:\\Users\\shubhangi\\anaconda3\\lib\\site-packages\\sklearn\\neighbors\\_classification.py:179: DataConversionWarning: A column-vector y was passed when a 1d array was expected. Please change the shape of y to (n_samples,), for example using ravel().\n",
      "  return self._fit(X, y)\n"
     ]
    },
    {
     "name": "stdout",
     "output_type": "stream",
     "text": [
      "Training Acc= 0.9404693869775593\n",
      "Testing Acc= 0.9235043114943551\n"
     ]
    }
   ],
   "source": [
    "from sklearn.neighbors import KNeighborsClassifier\n",
    "clf= KNeighborsClassifier()\n",
    "clf.fit(x_train,y_train)\n",
    "y_test_pred=clf.predict(x_test)\n",
    "y_train_pred=clf.predict(x_train)\n",
    "from sklearn.metrics import accuracy_score\n",
    "train_acc=accuracy_score(y_train,y_train_pred)\n",
    "test_acc=accuracy_score(y_test,y_test_pred)\n",
    "print('Training Acc=',train_acc)\n",
    "print('Testing Acc=',test_acc)"
   ]
  },
  {
   "cell_type": "code",
   "execution_count": 97,
   "id": "125388b7",
   "metadata": {},
   "outputs": [
    {
     "name": "stdout",
     "output_type": "stream",
     "text": [
      "              precision    recall  f1-score   support\n",
      "\n",
      "           1       0.89      0.85      0.87      4532\n",
      "           2       0.91      0.94      0.92      4436\n",
      "           3       0.93      0.97      0.95      4476\n",
      "           4       0.89      0.86      0.88      4570\n",
      "           5       1.00      1.00      1.00      4484\n",
      "\n",
      "    accuracy                           0.92     22498\n",
      "   macro avg       0.92      0.92      0.92     22498\n",
      "weighted avg       0.92      0.92      0.92     22498\n",
      "\n"
     ]
    }
   ],
   "source": [
    "from sklearn.metrics import classification_report\n",
    "cr=classification_report(y_test,y_test_pred)\n",
    "print(cr)"
   ]
  },
  {
   "cell_type": "code",
   "execution_count": 98,
   "id": "39acf607",
   "metadata": {},
   "outputs": [
    {
     "name": "stdout",
     "output_type": "stream",
     "text": [
      "[[3842  218   65  407    0]\n",
      " [  95 4155  148   35    3]\n",
      " [  17   63 4354   42    0]\n",
      " [ 378  110  137 3945    0]\n",
      " [   0    3    0    0 4481]]\n"
     ]
    }
   ],
   "source": [
    "from sklearn.metrics import confusion_matrix\n",
    "cm=confusion_matrix(y_test,y_test_pred)\n",
    "print(cm)"
   ]
  },
  {
   "cell_type": "code",
   "execution_count": 99,
   "id": "f0e4a07d",
   "metadata": {},
   "outputs": [
    {
     "data": {
      "text/plain": [
       "<AxesSubplot:>"
      ]
     },
     "execution_count": 99,
     "metadata": {},
     "output_type": "execute_result"
    },
    {
     "data": {
      "image/png": "[encoded data removed]",
      "text/plain": [
       "<Figure size 432x288 with 1 Axes>"
      ]
     },
     "metadata": {
      "needs_background": "light"
     },
     "output_type": "display_data"
    }
   ],
   "source": [
    "import seaborn as sns\n",
    "sns.heatmap(cm,annot=True,cbar=False,fmt='.2f')"
   ]
  },
  {
   "cell_type": "code",
   "execution_count": 100,
   "id": "df71b40b",
   "metadata": {},
   "outputs": [
    {
     "name": "stdout",
     "output_type": "stream",
     "text": [
      "Training Acc= 1.0\n",
      "Testing Acc= 0.9953773668770557\n"
     ]
    }
   ],
   "source": [
    "from sklearn.tree import DecisionTreeClassifier\n",
    "clf=DecisionTreeClassifier()\n",
    "clf.fit(x_train,y_train)\n",
    "y_test_pred=clf.predict(x_test)\n",
    "y_train_pred=clf.predict(x_train)\n",
    "from sklearn.metrics import accuracy_score\n",
    "train_acc=accuracy_score(y_train,y_train_pred)\n",
    "test_acc=accuracy_score(y_test,y_test_pred)\n",
    "print('Training Acc=',train_acc)\n",
    "print('Testing Acc=',test_acc)"
   ]
  },
  {
   "cell_type": "code",
   "execution_count": 101,
   "id": "dc62842f",
   "metadata": {},
   "outputs": [
    {
     "name": "stdout",
     "output_type": "stream",
     "text": [
      "              precision    recall  f1-score   support\n",
      "\n",
      "           1       1.00      0.99      1.00      4532\n",
      "           2       0.99      0.99      0.99      4436\n",
      "           3       0.99      0.99      0.99      4476\n",
      "           4       1.00      1.00      1.00      4570\n",
      "           5       1.00      1.00      1.00      4484\n",
      "\n",
      "    accuracy                           1.00     22498\n",
      "   macro avg       1.00      1.00      1.00     22498\n",
      "weighted avg       1.00      1.00      1.00     22498\n",
      "\n"
     ]
    }
   ],
   "source": [
    "from sklearn.metrics import classification_report\n",
    "cr=classification_report(y_test,y_test_pred)\n",
    "print(cr)"
   ]
  },
  {
   "cell_type": "code",
   "execution_count": 102,
   "id": "5f634004",
   "metadata": {},
   "outputs": [
    {
     "name": "stdout",
     "output_type": "stream",
     "text": [
      "[[4505    0   27    0    0]\n",
      " [   1 4408   11   16    0]\n",
      " [   5   14 4451    4    2]\n",
      " [   0   14    6 4550    0]\n",
      " [   0    3    1    0 4480]]\n"
     ]
    }
   ],
   "source": [
    "from sklearn.metrics import confusion_matrix\n",
    "cm=confusion_matrix(y_test,y_test_pred)\n",
    "print(cm)"
   ]
  },
  {
   "cell_type": "code",
   "execution_count": 103,
   "id": "57a1b6a3",
   "metadata": {},
   "outputs": [
    {
     "data": {
      "text/plain": [
       "<AxesSubplot:>"
      ]
     },
     "execution_count": 103,
     "metadata": {},
     "output_type": "execute_result"
    },
    {
     "data": {
      "image/png": "[encoded data removed]",
      "text/plain": [
       "<Figure size 432x288 with 1 Axes>"
      ]
     },
     "metadata": {
      "needs_background": "light"
     },
     "output_type": "display_data"
    }
   ],
   "source": [
    "import seaborn as sns\n",
    "sns.heatmap(cm,annot=True,cbar=False,fmt='.2f')"
   ]
  },
  {
   "cell_type": "code",
   "execution_count": 104,
   "id": "606e2ff4",
   "metadata": {},
   "outputs": [
    {
     "name": "stderr",
     "output_type": "stream",
     "text": [
      "<ipython-input-104-e61d3fe832cc>:3: DataConversionWarning: A column-vector y was passed when a 1d array was expected. Please change the shape of y to (n_samples,), for example using ravel().\n",
      "  clf.fit(x_train,y_train)\n"
     ]
    },
    {
     "name": "stdout",
     "output_type": "stream",
     "text": [
      "Training Acc= 1.0\n",
      "Testing Acc= 0.9985332029513735\n"
     ]
    }
   ],
   "source": [
    "from sklearn.ensemble import RandomForestClassifier\n",
    "clf=RandomForestClassifier()\n",
    "clf.fit(x_train,y_train)\n",
    "y_test_pred=clf.predict(x_test)\n",
    "y_train_pred=clf.predict(x_train)\n",
    "from sklearn.metrics import accuracy_score\n",
    "train_acc=accuracy_score(y_train,y_train_pred)\n",
    "test_acc=accuracy_score(y_test,y_test_pred)\n",
    "print('Training Acc=',train_acc)\n",
    "print('Testing Acc=',test_acc)"
   ]
  },
  {
   "cell_type": "code",
   "execution_count": 105,
   "id": "d71550a1",
   "metadata": {},
   "outputs": [
    {
     "name": "stdout",
     "output_type": "stream",
     "text": [
      "              precision    recall  f1-score   support\n",
      "\n",
      "           1       1.00      1.00      1.00      4532\n",
      "           2       1.00      1.00      1.00      4436\n",
      "           3       1.00      1.00      1.00      4476\n",
      "           4       1.00      1.00      1.00      4570\n",
      "           5       1.00      1.00      1.00      4484\n",
      "\n",
      "    accuracy                           1.00     22498\n",
      "   macro avg       1.00      1.00      1.00     22498\n",
      "weighted avg       1.00      1.00      1.00     22498\n",
      "\n"
     ]
    }
   ],
   "source": [
    "from sklearn.metrics import classification_report\n",
    "cr=classification_report(y_test,y_test_pred)\n",
    "print(cr)"
   ]
  },
  {
   "cell_type": "code",
   "execution_count": 106,
   "id": "de8706e0",
   "metadata": {},
   "outputs": [
    {
     "name": "stdout",
     "output_type": "stream",
     "text": [
      "[[4523    0    9    0    0]\n",
      " [   0 4429    6    1    0]\n",
      " [   1    4 4470    1    0]\n",
      " [   0    9    0 4561    0]\n",
      " [   0    2    0    0 4482]]\n"
     ]
    }
   ],
   "source": [
    "from sklearn.metrics import confusion_matrix\n",
    "cm=confusion_matrix(y_test,y_test_pred)\n",
    "print(cm)"
   ]
  },
  {
   "cell_type": "code",
   "execution_count": 107,
   "id": "43095be3",
   "metadata": {},
   "outputs": [
    {
     "data": {
      "text/plain": [
       "<AxesSubplot:>"
      ]
     },
     "execution_count": 107,
     "metadata": {},
     "output_type": "execute_result"
    },
    {
     "data": {
      "image/png": "[encoded data removed]",
      "text/plain": [
       "<Figure size 432x288 with 1 Axes>"
      ]
     },
     "metadata": {
      "needs_background": "light"
     },
     "output_type": "display_data"
    }
   ],
   "source": [
    "import seaborn as sns\n",
    "sns.heatmap(cm,annot=True,cbar=False,fmt='.2f')"
   ]
  },
  {
   "cell_type": "code",
   "execution_count": null,
   "id": "341b2f80",
   "metadata": {},
   "outputs": [],
   "source": []
  }
 ],
 "metadata": {
  "kernelspec": {
   "display_name": "Python 3",
   "language": "python",
   "name": "python3"
  },
  "language_info": {
   "codemirror_mode": {
    "name": "ipython",
    "version": 3
   },
   "file_extension": ".py",
   "mimetype": "text/x-python",
   "name": "python",
   "nbconvert_exporter": "python",
   "pygments_lexer": "ipython3",
   "version": "3.8.8"
  }
 },
 "nbformat": 4,
 "nbformat_minor": 5
}
